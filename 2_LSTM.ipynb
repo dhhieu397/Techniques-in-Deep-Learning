{
  "nbformat": 4,
  "nbformat_minor": 0,
  "metadata": {
    "colab": {
      "name": "2_LSTM.ipynb",
      "provenance": [],
      "collapsed_sections": [],
      "authorship_tag": "ABX9TyPfpBga9KYMXYESoCJlN5bc",
      "include_colab_link": true
    },
    "kernelspec": {
      "name": "python3",
      "display_name": "Python 3"
    },
    "language_info": {
      "name": "python"
    }
  },
  "cells": [
    {
      "cell_type": "markdown",
      "metadata": {
        "id": "view-in-github",
        "colab_type": "text"
      },
      "source": [
        "<a href=\"https://colab.research.google.com/github/dhhieu397/Techniques-in-Deep-Learning/blob/master/2_LSTM.ipynb\" target=\"_parent\"><img src=\"https://colab.research.google.com/assets/colab-badge.svg\" alt=\"Open In Colab\"/></a>"
      ]
    },
    {
      "cell_type": "markdown",
      "metadata": {
        "id": "KfE14mXWZNdX"
      },
      "source": [
        "####RNN: Mô hình nơ ron hồi quy\n",
        "+ 1 từ đơn lẻ, k có ý nghĩa; từ đó và mqh giữa các từ xq-> hiểu đc ngũ nghĩa của câu đó; ngoài ra để hiểu ngữ nghĩa 1 câu cần dựa vào cấu trucs ngữ pháp của câu đó\n",
        "+ Học đc mqh giữa từ đó với các từ xq -> từ đó hiểu ngữ nghĩa của câu\n",
        "+ RNN theo cơ chế liên kết từ liền trước vói các từ ở hiện tại để tạo ra mối liên hệ xâu chuỗi\n",
        "+ RNN: đầu vào xt, đàu ra ht, thông qua mang no ron A ở giữa (sao chép nhiều làn của cùng 1 cấu trúc để tạo ra các thành phần kết nối liền mạch vói nhau theo mô hình chuỗi)(vòng lặp) Note: Đầu ra của vòng lặp trước chính là đầu vào của vòng lặp sau.\n",
        "####Hạn chế của RNN\n",
        "+ Chỉ có đc sự liên kết giữa từ trước và từ hiện tại, tuy nhiên mạng nơ ron hồi quy này, chưa thể học đc sự phụ thuộc dài hạn ( để ứng dụng cho bài toán sinh từ) VD: trong ngữ cảnh học sinh đến trường, bống đến trg, nay trời mưa không mang áo mưa -> đoán đc event là bị \"ướt\". Cần LSTM (để học đc sự phụ thuộc trong dài hạn (long-term dependencies).\n",
        "###LSTM🇰\n",
        "+ gồm 3 hàm sigmoid và 1 hàm tanh\n",
        "+ Bước 1: quyết định xem thông tin nào nên đc giữ, thônhg tin nào nên loại bỏ, qua hàm sigmoid-> output xác suất (0, 1); 0: bỏ qua thông tin; 1: giữ toàn bộ thông tin đó\n",
        "+ Bước 2:  Bước tiếp theo chúng ta sẽ quyết định loại thông tin nào sẽ được lưu trữ trong ô trạng thái (cell state). Bước này bao gồm 2 phần. Phần đầu tiên là một tầng ẩn của hàm sigmoid được gọi là tầng cổng vào (input gate layer) quyết định giá trị bao nhiêu sẽ được cập nhật. Tiếp theo, tầng ẩn hàm tanh sẽ tạo ra một véc tơ của một giá trị trạng thái mới \n",
        " mà có thể được thêm vào trạng thái. Tiếp theo kết hợp kết quả của 2 tầng này để tạo thành một cập nhật cho trạng thái.\n",
        "\n",
        "Trong ví dụ của mô hình ngôn ngữ, chúng ta muốn thêm loại của một chủ ngữ mới vào ô trạng thái để thay thế phần trạng thái cũ muốn quên đi."
      ]
    },
    {
      "cell_type": "markdown",
      "metadata": {
        "id": "zK5spH7Sg2lF"
      },
      "source": [
        "####2. Thực hành mô hình sinh từ tự động\n",
        "\n"
      ]
    },
    {
      "cell_type": "code",
      "metadata": {
        "colab": {
          "base_uri": "https://localhost:8080/"
        },
        "id": "4ZhAIpzXhxaL",
        "outputId": "31e2051b-5b9f-4343-de4a-34c212e0df72"
      },
      "source": [
        "from google.colab import drive\n",
        "drive.mount(\"/content/gdrive\")"
      ],
      "execution_count": null,
      "outputs": [
        {
          "output_type": "stream",
          "name": "stdout",
          "text": [
            "Mounted at /content/gdrive\n"
          ]
        }
      ]
    },
    {
      "cell_type": "code",
      "metadata": {
        "colab": {
          "base_uri": "https://localhost:8080/"
        },
        "id": "owOvdUeQiIrB",
        "outputId": "db5bfd60-6af3-4032-ce42-a8bf1ccb6173"
      },
      "source": [
        "cd \"/content/gdrive/MyDrive/Cert TensorFlow_ Bá Ngọc/phamdinhkhanh.github_Blog\""
      ],
      "execution_count": null,
      "outputs": [
        {
          "output_type": "stream",
          "name": "stdout",
          "text": [
            "/content/gdrive/MyDrive/Cert TensorFlow_ Bá Ngọc/phamdinhkhanh.github_Blog\n"
          ]
        }
      ]
    },
    {
      "cell_type": "code",
      "metadata": {
        "colab": {
          "base_uri": "https://localhost:8080/"
        },
        "id": "Ie7IPX-BhJsd",
        "outputId": "c68595cd-a935-41aa-9a9c-3374f7a1765e"
      },
      "source": [
        "import numpy as np\n",
        "from keras.models import Sequential\n",
        "from keras.layers import Dense, Dropout, LSTM\n",
        "from keras.callbacks import ModelCheckpoint\n",
        "from keras.utils import np_utils\n",
        "import os\n",
        "\n",
        "filename = \"/content/gdrive/MyDrive/Cert TensorFlow_ Bá Ngọc/phamdinhkhanh.github_Blog/wonderland.txt\"\n",
        "raw_text = open(filename).read().lower()\n",
        "chars = sorted(list(set(raw_text)))\n",
        "print(chars)\n",
        "char_to_int = dict((c, i) for i, c in enumerate(chars))\n",
        "print(\"Number of letter: \", len(char_to_int))\n",
        "print(char_to_int)\n",
        " \n"
      ],
      "execution_count": null,
      "outputs": [
        {
          "output_type": "stream",
          "name": "stdout",
          "text": [
            "['\\n', ' ', '!', '\"', \"'\", '(', ')', '*', ',', '-', '.', '0', '3', ':', ';', '?', '[', ']', '_', '`', 'a', 'b', 'c', 'd', 'e', 'f', 'g', 'h', 'i', 'j', 'k', 'l', 'm', 'n', 'o', 'p', 'q', 'r', 's', 't', 'u', 'v', 'w', 'x', 'y', 'z']\n",
            "Number of letter:  46\n",
            "{'\\n': 0, ' ': 1, '!': 2, '\"': 3, \"'\": 4, '(': 5, ')': 6, '*': 7, ',': 8, '-': 9, '.': 10, '0': 11, '3': 12, ':': 13, ';': 14, '?': 15, '[': 16, ']': 17, '_': 18, '`': 19, 'a': 20, 'b': 21, 'c': 22, 'd': 23, 'e': 24, 'f': 25, 'g': 26, 'h': 27, 'i': 28, 'j': 29, 'k': 30, 'l': 31, 'm': 32, 'n': 33, 'o': 34, 'p': 35, 'q': 36, 'r': 37, 's': 38, 't': 39, 'u': 40, 'v': 41, 'w': 42, 'x': 43, 'y': 44, 'z': 45}\n"
          ]
        }
      ]
    },
    {
      "cell_type": "code",
      "metadata": {
        "colab": {
          "base_uri": "https://localhost:8080/"
        },
        "id": "bIP-OzEjhAdW",
        "outputId": "18ed5b1e-70f0-4fd2-84dd-dacc3ee7109d"
      },
      "source": [
        "import string\n",
        "string.ascii_lowercase\n",
        "chars_new = list(string.ascii_lowercase) + ['0', '.', ',', ' ', '!', '?', 'unk']\n",
        "#print(chars_new)\n",
        "chars_to_int = dict((v, k) for k, v in enumerate(chars_new))\n",
        "int_to_chars = dict((k, v) for k, v in enumerate(chars_new))\n",
        "print('character to int:', chars_to_int)\n",
        "print('int to character:', int_to_chars)"
      ],
      "execution_count": null,
      "outputs": [
        {
          "output_type": "stream",
          "name": "stdout",
          "text": [
            "character to int: {'a': 0, 'b': 1, 'c': 2, 'd': 3, 'e': 4, 'f': 5, 'g': 6, 'h': 7, 'i': 8, 'j': 9, 'k': 10, 'l': 11, 'm': 12, 'n': 13, 'o': 14, 'p': 15, 'q': 16, 'r': 17, 's': 18, 't': 19, 'u': 20, 'v': 21, 'w': 22, 'x': 23, 'y': 24, 'z': 25, '0': 26, '.': 27, ',': 28, ' ': 29, '!': 30, '?': 31, 'unk': 32}\n",
            "int to character: {0: 'a', 1: 'b', 2: 'c', 3: 'd', 4: 'e', 5: 'f', 6: 'g', 7: 'h', 8: 'i', 9: 'j', 10: 'k', 11: 'l', 12: 'm', 13: 'n', 14: 'o', 15: 'p', 16: 'q', 17: 'r', 18: 's', 19: 't', 20: 'u', 21: 'v', 22: 'w', 23: 'x', 24: 'y', 25: 'z', 26: '0', 27: '.', 28: ',', 29: ' ', 30: '!', 31: '?', 32: 'unk'}\n"
          ]
        }
      ]
    },
    {
      "cell_type": "code",
      "metadata": {
        "colab": {
          "base_uri": "https://localhost:8080/"
        },
        "id": "GARiAGZPowav",
        "outputId": "8425368f-8a3f-4403-9dd8-0d2ada2df64e"
      },
      "source": [
        "n_chars = len(raw_text)\n",
        "n_vocab = len(chars_new)\n",
        "print('Total characters: ', n_chars)\n",
        "print('Total Vocab: ', n_vocab)"
      ],
      "execution_count": null,
      "outputs": [
        {
          "output_type": "stream",
          "name": "stdout",
          "text": [
            "Total characters:  148574\n",
            "Total Vocab:  33\n"
          ]
        }
      ]
    },
    {
      "cell_type": "code",
      "metadata": {
        "colab": {
          "base_uri": "https://localhost:8080/"
        },
        "id": "_dBhNOtit40o",
        "outputId": "7dcb72aa-72ad-43f1-dbe3-b16c93002e78"
      },
      "source": [
        "def _encode_sen(text):\n",
        "    text = text.lower()\n",
        "    sen_vec = []\n",
        "    for let in text:\n",
        "        if let in chars_new[:-1]:\n",
        "            idx = chars_to_int[let]\n",
        "        else:\n",
        "            idx = chars_to_int['unk']\n",
        "        sen_vec.append(idx)\n",
        "    return sen_vec\n",
        "\n",
        "x_test = _encode_sen('Alice is a wonderful story. #')\n",
        "print(x_test)"
      ],
      "execution_count": null,
      "outputs": [
        {
          "output_type": "stream",
          "name": "stdout",
          "text": [
            "[0, 11, 8, 2, 4, 29, 8, 18, 29, 0, 29, 22, 14, 13, 3, 4, 17, 5, 20, 11, 29, 18, 19, 14, 17, 24, 27, 29, 32]\n"
          ]
        }
      ]
    },
    {
      "cell_type": "code",
      "metadata": {
        "colab": {
          "base_uri": "https://localhost:8080/",
          "height": 35
        },
        "id": "JzB-5NnOuLSA",
        "outputId": "5dd013e6-1357-4569-a010-fe21c72066f9"
      },
      "source": [
        "def _decode_sen(vec):\n",
        "    text = []\n",
        "    for i in vec:\n",
        "        let = int_to_chars[i]\n",
        "        text.append(let)\n",
        "    text = ''.join(text)\n",
        "    return text\n",
        "\n",
        "_decode_sen(x_test)"
      ],
      "execution_count": null,
      "outputs": [
        {
          "output_type": "execute_result",
          "data": {
            "application/vnd.google.colaboratory.intrinsic+json": {
              "type": "string"
            },
            "text/plain": [
              "'alice is a wonderful story. unk'"
            ]
          },
          "metadata": {},
          "execution_count": 26
        }
      ]
    },
    {
      "cell_type": "code",
      "metadata": {
        "colab": {
          "base_uri": "https://localhost:8080/"
        },
        "id": "7fcaXCovuQiG",
        "outputId": "1d98c7a5-cfa2-48b9-e388-958edc19471c"
      },
      "source": [
        "# prepare the dataset of input to output pairs encoded as integers\n",
        "seq_length = 100\n",
        "dataX = []\n",
        "dataY = []\n",
        "for i in range(0, n_chars - seq_length, 1):\n",
        "    # Lấy ra 100 kí tự liền trước\n",
        "    seq_in = raw_text[i:i + seq_length]\n",
        "    # Lấy ra kí tự liền sau 100 kí tự đó\n",
        "    seq_out = raw_text[i + seq_length]\n",
        "    dataX.append(_encode_sen(seq_in))\n",
        "    dataY.append(_encode_sen(seq_out)[0])\n",
        "    n_patterns = len(dataX)\n",
        "print(\"Total Patterns: \", n_patterns)"
      ],
      "execution_count": null,
      "outputs": [
        {
          "output_type": "stream",
          "name": "stdout",
          "text": [
            "Total Patterns:  148474\n"
          ]
        }
      ]
    },
    {
      "cell_type": "code",
      "metadata": {
        "colab": {
          "base_uri": "https://localhost:8080/"
        },
        "id": "wkewFptQuX_h",
        "outputId": "1efd0f8a-7349-47f4-9f53-767765331fd9"
      },
      "source": [
        "import numpy as np\n",
        "# reshape X to be [samples, time steps, features]\n",
        "X_train = np.reshape(dataX, (n_patterns, seq_length, 1))\n",
        "# normalize\n",
        "X_train = X_train / float(n_vocab)\n",
        "# one hot encode the output variable\n",
        "y_train = np_utils.to_categorical(dataY)\n",
        "print('X [samples, time steps, features] shape: ', X_train.shape)\n",
        "print('Y shape: ', y_train.shape)\n",
        "\n",
        "print(type(X_train))\n",
        "print(type(y_train))\n",
        "\n"
      ],
      "execution_count": null,
      "outputs": [
        {
          "output_type": "stream",
          "name": "stdout",
          "text": [
            "X [samples, time steps, features] shape:  (148474, 100, 1)\n",
            "Y shape:  (148474, 33)\n",
            "<class 'numpy.ndarray'>\n",
            "<class 'numpy.ndarray'>\n"
          ]
        }
      ]
    },
    {
      "cell_type": "code",
      "metadata": {
        "colab": {
          "base_uri": "https://localhost:8080/",
          "height": 1000
        },
        "id": "GpYUN9bZumos",
        "outputId": "d4bcc4c9-d996-443d-c17d-2d708d39d0d7"
      },
      "source": [
        "import seaborn as sn\n",
        "import numpy as np\n",
        "import matplotlib.pyplot as plt\n",
        "plt.figure(figsize = (10, 5))\n",
        "sn.countplot(np.array(dataY))\n",
        "plt.xticks(np.arange(32),np.array(chars_new))\n"
      ],
      "execution_count": null,
      "outputs": [
        {
          "output_type": "stream",
          "name": "stderr",
          "text": [
            "/usr/local/lib/python3.7/dist-packages/seaborn/_decorators.py:43: FutureWarning: Pass the following variable as a keyword arg: x. From version 0.12, the only valid positional argument will be `data`, and passing other arguments without an explicit keyword will result in an error or misinterpretation.\n",
            "  FutureWarning\n"
          ]
        },
        {
          "output_type": "execute_result",
          "data": {
            "text/plain": [
              "([<matplotlib.axis.XTick at 0x7f53b8c76d90>,\n",
              "  <matplotlib.axis.XTick at 0x7f53b8c76d50>,\n",
              "  <matplotlib.axis.XTick at 0x7f53b8c76950>,\n",
              "  <matplotlib.axis.XTick at 0x7f53b8bad250>,\n",
              "  <matplotlib.axis.XTick at 0x7f53b8bad750>,\n",
              "  <matplotlib.axis.XTick at 0x7f53b8badc90>,\n",
              "  <matplotlib.axis.XTick at 0x7f53b8bb0290>,\n",
              "  <matplotlib.axis.XTick at 0x7f53b8bb0790>,\n",
              "  <matplotlib.axis.XTick at 0x7f53b8bb0cd0>,\n",
              "  <matplotlib.axis.XTick at 0x7f53b8bbe290>,\n",
              "  <matplotlib.axis.XTick at 0x7f53b8bb06d0>,\n",
              "  <matplotlib.axis.XTick at 0x7f53b8bad810>,\n",
              "  <matplotlib.axis.XTick at 0x7f53b8bbe0d0>,\n",
              "  <matplotlib.axis.XTick at 0x7f53b8bbec90>,\n",
              "  <matplotlib.axis.XTick at 0x7f53b8bc4250>,\n",
              "  <matplotlib.axis.XTick at 0x7f53b8bc4750>,\n",
              "  <matplotlib.axis.XTick at 0x7f53b8bc4c90>,\n",
              "  <matplotlib.axis.XTick at 0x7f53b8bce250>,\n",
              "  <matplotlib.axis.XTick at 0x7f53b8bce750>,\n",
              "  <matplotlib.axis.XTick at 0x7f53b8bcec90>,\n",
              "  <matplotlib.axis.XTick at 0x7f53b8bcec50>,\n",
              "  <matplotlib.axis.XTick at 0x7f53b8bc4710>,\n",
              "  <matplotlib.axis.XTick at 0x7f53b8bbec50>,\n",
              "  <matplotlib.axis.XTick at 0x7f53b8bd6310>,\n",
              "  <matplotlib.axis.XTick at 0x7f53b8bd6810>,\n",
              "  <matplotlib.axis.XTick at 0x7f53b8bd6d50>,\n",
              "  <matplotlib.axis.XTick at 0x7f53b8bdd310>,\n",
              "  <matplotlib.axis.XTick at 0x7f53b8bdd810>,\n",
              "  <matplotlib.axis.XTick at 0x7f53b8bddd50>,\n",
              "  <matplotlib.axis.XTick at 0x7f53b8b65310>,\n",
              "  <matplotlib.axis.XTick at 0x7f53b93db950>,\n",
              "  <matplotlib.axis.XTick at 0x7f53b8bdd450>],\n",
              " [Text(0, 0, 'a'),\n",
              "  Text(0, 0, 'b'),\n",
              "  Text(0, 0, 'c'),\n",
              "  Text(0, 0, 'd'),\n",
              "  Text(0, 0, 'e'),\n",
              "  Text(0, 0, 'f'),\n",
              "  Text(0, 0, 'g'),\n",
              "  Text(0, 0, 'h'),\n",
              "  Text(0, 0, 'i'),\n",
              "  Text(0, 0, 'j'),\n",
              "  Text(0, 0, 'k'),\n",
              "  Text(0, 0, 'l'),\n",
              "  Text(0, 0, 'm'),\n",
              "  Text(0, 0, 'n'),\n",
              "  Text(0, 0, 'o'),\n",
              "  Text(0, 0, 'p'),\n",
              "  Text(0, 0, 'q'),\n",
              "  Text(0, 0, 'r'),\n",
              "  Text(0, 0, 's'),\n",
              "  Text(0, 0, 't'),\n",
              "  Text(0, 0, 'u'),\n",
              "  Text(0, 0, 'v'),\n",
              "  Text(0, 0, 'w'),\n",
              "  Text(0, 0, 'x'),\n",
              "  Text(0, 0, 'y'),\n",
              "  Text(0, 0, 'z'),\n",
              "  Text(0, 0, '0'),\n",
              "  Text(0, 0, '.'),\n",
              "  Text(0, 0, ','),\n",
              "  Text(0, 0, ' '),\n",
              "  Text(0, 0, '!'),\n",
              "  Text(0, 0, '?')])"
            ]
          },
          "metadata": {},
          "execution_count": 31
        },
        {
          "output_type": "display_data",
          "data": {
            "image/png": "[encoded data removed]",
            "text/plain": [
              "<Figure size 720x360 with 1 Axes>"
            ]
          },
          "metadata": {
            "needs_background": "light"
          }
        }
      ]
    },
    {
      "cell_type": "code",
      "metadata": {
        "colab": {
          "base_uri": "https://localhost:8080/"
        },
        "id": "rk9TsO9MusAv",
        "outputId": "1423999e-a17e-4fce-8df5-18cbeb462cef"
      },
      "source": [
        "#Mô hình LSTM\n",
        "model = Sequential()\n",
        "model.add(LSTM(256, input_shape = (X_train.shape[1], X_train.shape[2])))\n",
        "model.add(Dropout(0.2))\n",
        "model.add(Dense(y_train.shape[1], activation = 'softmax'))\n",
        "model.compile(loss = 'categorical_crossentropy', optimizer = 'adam', metrics = ['accuracy'])\n",
        "model.summary()"
      ],
      "execution_count": null,
      "outputs": [
        {
          "output_type": "stream",
          "name": "stdout",
          "text": [
            "Model: \"sequential_1\"\n",
            "_________________________________________________________________\n",
            " Layer (type)                Output Shape              Param #   \n",
            "=================================================================\n",
            " lstm_1 (LSTM)               (None, 256)               264192    \n",
            "                                                                 \n",
            " dropout_1 (Dropout)         (None, 256)               0         \n",
            "                                                                 \n",
            " dense (Dense)               (None, 33)                8481      \n",
            "                                                                 \n",
            "=================================================================\n",
            "Total params: 272,673\n",
            "Trainable params: 272,673\n",
            "Non-trainable params: 0\n",
            "_________________________________________________________________\n"
          ]
        }
      ]
    },
    {
      "cell_type": "code",
      "metadata": {
        "colab": {
          "base_uri": "https://localhost:8080/"
        },
        "id": "nTeY990ku7G3",
        "outputId": "4fe8f524-3f3f-4d76-d674-4cd804cdc9ad"
      },
      "source": [
        "filepath = 'weights-improvement-{epoch:02d}-{loss:.4f}.hdf5'\n",
        "checkpoint = ModelCheckpoint(filepath, monitor = 'val_acc', verbose = 1, save_best_only = True, mode = 'max')\n",
        "callback_list = [checkpoint]\n",
        "model.fit(X_train, y_train, epochs = 5, batch_size = 128, validation_split=0.33, callbacks = callback_list, verbose = 1)"
      ],
      "execution_count": null,
      "outputs": [
        {
          "output_type": "stream",
          "name": "stdout",
          "text": [
            "Epoch 1/5\n",
            "778/778 [==============================] - ETA: 0s - loss: 2.8878 - accuracy: 0.1973WARNING:tensorflow:Can save best model only with val_acc available, skipping.\n",
            "778/778 [==============================] - 562s 720ms/step - loss: 2.8878 - accuracy: 0.1973 - val_loss: 2.8000 - val_accuracy: 0.1951\n",
            "Epoch 2/5\n",
            "778/778 [==============================] - ETA: 0s - loss: 2.7352 - accuracy: 0.2172WARNING:tensorflow:Can save best model only with val_acc available, skipping.\n",
            "778/778 [==============================] - 562s 722ms/step - loss: 2.7352 - accuracy: 0.2172 - val_loss: 2.6926 - val_accuracy: 0.2319\n",
            "Epoch 3/5\n",
            "778/778 [==============================] - ETA: 0s - loss: 2.6520 - accuracy: 0.2436WARNING:tensorflow:Can save best model only with val_acc available, skipping.\n",
            "778/778 [==============================] - 567s 729ms/step - loss: 2.6520 - accuracy: 0.2436 - val_loss: 2.6207 - val_accuracy: 0.2496\n",
            "Epoch 4/5\n",
            "778/778 [==============================] - ETA: 0s - loss: 2.5924 - accuracy: 0.2595WARNING:tensorflow:Can save best model only with val_acc available, skipping.\n",
            "778/778 [==============================] - 563s 724ms/step - loss: 2.5924 - accuracy: 0.2595 - val_loss: 2.5739 - val_accuracy: 0.2642\n",
            "Epoch 5/5\n",
            "778/778 [==============================] - ETA: 0s - loss: 2.5424 - accuracy: 0.2737WARNING:tensorflow:Can save best model only with val_acc available, skipping.\n",
            "778/778 [==============================] - 563s 724ms/step - loss: 2.5424 - accuracy: 0.2737 - val_loss: 2.5284 - val_accuracy: 0.2828\n"
          ]
        },
        {
          "output_type": "execute_result",
          "data": {
            "text/plain": [
              "<keras.callbacks.History at 0x7f53b44323d0>"
            ]
          },
          "metadata": {},
          "execution_count": 34
        }
      ]
    },
    {
      "cell_type": "code",
      "metadata": {
        "id": "EHlC9eOwvMEV"
      },
      "source": [
        "#Dự báo kết quả từ tiếp theo từ một tập hợp kí tự đầu vào\n",
        "import numpy as np\n",
        "base_word = 'Alice was beginning to get very tired of sitting by her sister on the bank'\n",
        "\n",
        "def _predict_let(text, len_sen = 1):\n",
        "    text_for = []\n",
        "    for i in range(len_sen):\n",
        "        x_input = np.array(_encode_sen(text)[-100:])/float(n_vocab)\n",
        "        if x_input.shape[0] < 100:\n",
        "            x_input = np.concatenate((np.zeros(100-x_input.shape[0]), x_input), axis = 0)\n",
        "        x_input = np.expand_dims(np.expand_dims(x_input, -1), 0)\n",
        "        y_prob = model.predict(x_input)\n",
        "        y_let = int_to_chars[np.argmax(y_prob, axis = 1)[0]]\n",
        "        text = text + y_let\n",
        "    return text[len_sen:]\n",
        "\n",
        "_predict_let(base_word, 100)"
      ],
      "execution_count": null,
      "outputs": []
    },
    {
      "cell_type": "code",
      "metadata": {
        "id": "zACCnWrIvd5X"
      },
      "source": [
        ""
      ],
      "execution_count": null,
      "outputs": []
    }
  ]
}