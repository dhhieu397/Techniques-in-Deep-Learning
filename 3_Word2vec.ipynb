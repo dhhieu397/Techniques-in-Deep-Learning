{
  "nbformat": 4,
  "nbformat_minor": 0,
  "metadata": {
    "colab": {
      "name": "3_Word2vec.ipynb",
      "provenance": [],
      "collapsed_sections": [],
      "authorship_tag": "ABX9TyMCAdjYcaaplBjzsjvmXE1L",
      "include_colab_link": true
    },
    "kernelspec": {
      "name": "python3",
      "display_name": "Python 3"
    },
    "language_info": {
      "name": "python"
    }
  },
  "cells": [
    {
      "cell_type": "markdown",
      "metadata": {
        "id": "view-in-github",
        "colab_type": "text"
      },
      "source": [
        "<a href=\"https://colab.research.google.com/github/dhhieu397/Techniques-in-Deep-Learning/blob/master/3_Word2vec.ipynb\" target=\"_parent\"><img src=\"https://colab.research.google.com/assets/colab-badge.svg\" alt=\"Open In Colab\"/></a>"
      ]
    },
    {
      "cell_type": "code",
      "metadata": {
        "colab": {
          "base_uri": "https://localhost:8080/"
        },
        "id": "xgL6TEto4tKp",
        "outputId": "258fcb33-5f9f-487b-d3c0-3814b5432bb1"
      },
      "source": [
        "#Gán index cho các class bằng LabelEncoder:\n",
        "from sklearn.preprocessing import LabelEncoder\n",
        "le = LabelEncoder()\n",
        "words = ['anh', 'em', 'gia đình', 'bạn bè', 'anh', 'em']\n",
        "le.fit(words)\n",
        "print('Class of words: ', le.classes_)\n",
        "#Biến đổi sang dạng số\n",
        "x = le.transform(words)\n",
        "print('Convert to number: ', x)\n",
        "#y = le.fit_transform(words)\n",
        "#Biến đổi lại sang dạng class:\n",
        "print('Invert into class: ', le.inverse_transform(x))"
      ],
      "execution_count": null,
      "outputs": [
        {
          "output_type": "stream",
          "name": "stdout",
          "text": [
            "Class of words:  ['anh' 'bạn bè' 'em' 'gia đình']\n",
            "Convert to number:  [0 2 3 1 0 2]\n",
            "Invert into class:  ['anh' 'em' 'gia đình' 'bạn bè' 'anh' 'em']\n"
          ]
        }
      ]
    },
    {
      "cell_type": "code",
      "metadata": {
        "id": "_HeUHpCd-JrB"
      },
      "source": [
        "##Zip\n",
        "x = [1, 2, 3]; y = ['a','b','c']\n",
        "z = zip(x, y)\n",
        "z = list(z)\n",
        "print(z)\n",
        ">>> [(1, 'a'), (2, 'b'), (3, 'c')]"
      ],
      "execution_count": null,
      "outputs": []
    },
    {
      "cell_type": "code",
      "metadata": {
        "colab": {
          "base_uri": "https://localhost:8080/"
        },
        "id": "E51gmpjv-QiH",
        "outputId": "ebbbcfcd-aa52-4192-b5e4-ed40289529e4"
      },
      "source": [
        "import numpy as np\n",
        "x = le.classes_ #['anh', 'bạn bè', 'em', 'gia đình']\n",
        "print(x1)\n",
        "y = np.arange(len(le.classes_)) # [0 1 2 3]\n",
        "print(x2)\n",
        "z = zip(x, y)\n",
        "z = list(z)\n",
        "print(z)"
      ],
      "execution_count": null,
      "outputs": [
        {
          "output_type": "stream",
          "name": "stdout",
          "text": [
            "['anh' 'bạn bè' 'em' 'gia đình']\n",
            "4\n",
            "[('anh', 0), ('bạn bè', 1), ('em', 2), ('gia đình', 3)]\n"
          ]
        }
      ]
    },
    {
      "cell_type": "code",
      "metadata": {
        "colab": {
          "base_uri": "https://localhost:8080/"
        },
        "id": "gK7SSB4r6gOG",
        "outputId": "1299885d-0108-46a3-db73-ea82a61c2547"
      },
      "source": [
        "###OneHotEncoder\n",
        "from sklearn.preprocessing import OneHotEncoder\n",
        "import numpy as np\n",
        "#x = np.arange(4)\n",
        "#print(x.dtype) #int64\n",
        "#print(x) #[0 1 2 3]\n",
        "#len(le.classes_) #4\n",
        "a = le.classes_\n",
        "oh = OneHotEncoder()\n",
        "classes_indices = list(zip(a, np.arange(len(le.classes_))))\n",
        "print(\"Class indices: \", classes_indices)\n",
        "oh.fit(classes_indices) #OneHotEncoder()\n",
        "print('One-hot categories and indices:', oh.categories_) #[array(['anh', 'bạn bè', 'em', 'gia đình'], dtype=object), array([0, 1, 2, 3], dtype=object)]\n",
        "\n",
        "#1. Biến đổi words sang dạng số\n",
        "#print(words) # output: ['anh', 'em', 'gia đình', 'bạn bè', 'anh', 'em']\n",
        "x = le.transform(words)\n",
        "#print(x) # output: [0 2 3 1 0 2]\n",
        "# zip(words, x)\n",
        "#2. Biến đổi list words sang dạng one-hot\n",
        "words_indices = list(zip(words, x))\n",
        "print(words_indices) #output: [('anh', 0), ('em', 2), ('gia đình', 3), ('bạn bè', 1), ('anh', 0), ('em', 2)]\n",
        "\n",
        "### 3. Transform words into one-hot matrices:\n",
        "oneHot = oh.transform(words_indices).toarray()\n",
        "print(oneHot)\n",
        "\n",
        "### 4. Inverse transform to categories from one-hot matrices:\n",
        "print(oh.inverse_transform(oneHot))\n",
        "\n"
      ],
      "execution_count": null,
      "outputs": [
        {
          "output_type": "stream",
          "name": "stdout",
          "text": [
            "Class indices:  [('anh', 0), ('bạn bè', 1), ('em', 2), ('gia đình', 3)]\n",
            "One-hot categories and indices: [array(['anh', 'bạn bè', 'em', 'gia đình'], dtype=object), array([0, 1, 2, 3], dtype=object)]\n",
            "[('anh', 0), ('em', 2), ('gia đình', 3), ('bạn bè', 1), ('anh', 0), ('em', 2)]\n",
            "[[1. 0. 0. 0. 1. 0. 0. 0.]\n",
            " [0. 0. 1. 0. 0. 0. 1. 0.]\n",
            " [0. 0. 0. 1. 0. 0. 0. 1.]\n",
            " [0. 1. 0. 0. 0. 1. 0. 0.]\n",
            " [1. 0. 0. 0. 1. 0. 0. 0.]\n",
            " [0. 0. 1. 0. 0. 0. 1. 0.]]\n",
            "[['anh' 0]\n",
            " ['em' 2]\n",
            " ['gia đình' 3]\n",
            " ['bạn bè' 1]\n",
            " ['anh' 0]\n",
            " ['em' 2]]\n"
          ]
        }
      ]
    }
  ]
}